{
 "cells": [
  {
   "cell_type": "markdown",
   "metadata": {
    "colab_type": "text",
    "id": "5bAr1Da2Wcg3"
   },
   "source": [
    "# Predictive Analytics - Project 2"
   ]
  },
  {
   "cell_type": "markdown",
   "metadata": {
    "colab_type": "text",
    "id": "TNugCJqqWcg5"
   },
   "source": [
    "## 1. Introduction"
   ]
  },
  {
   "cell_type": "markdown",
   "metadata": {
    "colab_type": "text",
    "id": "W8hxyNoxWcg5"
   },
   "source": [
    "**Import libraries**"
   ]
  },
  {
   "cell_type": "code",
   "execution_count": 40,
   "metadata": {
    "ExecuteTime": {
     "end_time": "2019-12-04T04:44:05.135213Z",
     "start_time": "2019-12-04T04:44:05.117221Z"
    },
    "colab": {},
    "colab_type": "code",
    "id": "NlzycM_IWcg6"
   },
   "outputs": [],
   "source": [
    "import numpy as np\n",
    "import pandas as pd\n",
    "import matplotlib.pyplot as plt\n",
    "import seaborn as sns\n",
    "import joblib\n",
    "\n",
    "import warnings\n",
    "warnings.simplefilter(action='ignore', category=FutureWarning)\n",
    "\n",
    "%matplotlib inline\n",
    "sns.set_style('darkgrid')"
   ]
  },
  {
   "cell_type": "markdown",
   "metadata": {
    "colab_type": "text",
    "id": "4cp-rJH-Wcg-"
   },
   "source": [
    "**Load data**"
   ]
  },
  {
   "cell_type": "code",
   "execution_count": 41,
   "metadata": {
    "ExecuteTime": {
     "end_time": "2019-12-04T04:15:05.280948Z",
     "start_time": "2019-12-04T04:15:05.176012Z"
    },
    "colab": {},
    "colab_type": "code",
    "id": "TpVP0QK0Wcg_"
   },
   "outputs": [],
   "source": [
    "data = pd.read_csv('data/heloc_dataset_v1.csv')"
   ]
  },
  {
   "cell_type": "code",
   "execution_count": 42,
   "metadata": {
    "ExecuteTime": {
     "end_time": "2019-12-04T04:15:05.421634Z",
     "start_time": "2019-12-04T04:15:05.290947Z"
    },
    "colab": {
     "base_uri": "https://localhost:8080/",
     "height": 179
    },
    "colab_type": "code",
    "executionInfo": {
     "elapsed": 465,
     "status": "ok",
     "timestamp": 1576269162561,
     "user": {
      "displayName": "Khanh Duc Tran",
      "photoUrl": "https://lh3.googleusercontent.com/a-/AAuE7mBivPPq6ugLCrYw8TwzyYPUVX3s3MzsM0frR-_MxA=s64",
      "userId": "01880894527573408613"
     },
     "user_tz": 300
    },
    "id": "EF0YjmMEWchB",
    "outputId": "c96d4142-4f13-42c8-a068-04210023009b"
   },
   "outputs": [
    {
     "name": "stdout",
     "output_type": "stream",
     "text": [
      "(10459, 24)\n"
     ]
    },
    {
     "data": {
      "text/html": [
       "<div>\n",
       "<style scoped>\n",
       "    .dataframe tbody tr th:only-of-type {\n",
       "        vertical-align: middle;\n",
       "    }\n",
       "\n",
       "    .dataframe tbody tr th {\n",
       "        vertical-align: top;\n",
       "    }\n",
       "\n",
       "    .dataframe thead th {\n",
       "        text-align: right;\n",
       "    }\n",
       "</style>\n",
       "<table border=\"1\" class=\"dataframe\">\n",
       "  <thead>\n",
       "    <tr style=\"text-align: right;\">\n",
       "      <th></th>\n",
       "      <th>RiskPerformance</th>\n",
       "      <th>ExternalRiskEstimate</th>\n",
       "      <th>MSinceOldestTradeOpen</th>\n",
       "      <th>MSinceMostRecentTradeOpen</th>\n",
       "      <th>AverageMInFile</th>\n",
       "      <th>NumSatisfactoryTrades</th>\n",
       "      <th>NumTrades60Ever2DerogPubRec</th>\n",
       "      <th>NumTrades90Ever2DerogPubRec</th>\n",
       "      <th>PercentTradesNeverDelq</th>\n",
       "      <th>MSinceMostRecentDelq</th>\n",
       "      <th>...</th>\n",
       "      <th>PercentInstallTrades</th>\n",
       "      <th>MSinceMostRecentInqexcl7days</th>\n",
       "      <th>NumInqLast6M</th>\n",
       "      <th>NumInqLast6Mexcl7days</th>\n",
       "      <th>NetFractionRevolvingBurden</th>\n",
       "      <th>NetFractionInstallBurden</th>\n",
       "      <th>NumRevolvingTradesWBalance</th>\n",
       "      <th>NumInstallTradesWBalance</th>\n",
       "      <th>NumBank2NatlTradesWHighUtilization</th>\n",
       "      <th>PercentTradesWBalance</th>\n",
       "    </tr>\n",
       "  </thead>\n",
       "  <tbody>\n",
       "    <tr>\n",
       "      <td>0</td>\n",
       "      <td>Bad</td>\n",
       "      <td>55</td>\n",
       "      <td>144</td>\n",
       "      <td>4</td>\n",
       "      <td>84</td>\n",
       "      <td>20</td>\n",
       "      <td>3</td>\n",
       "      <td>0</td>\n",
       "      <td>83</td>\n",
       "      <td>2</td>\n",
       "      <td>...</td>\n",
       "      <td>43</td>\n",
       "      <td>0</td>\n",
       "      <td>0</td>\n",
       "      <td>0</td>\n",
       "      <td>33</td>\n",
       "      <td>-8</td>\n",
       "      <td>8</td>\n",
       "      <td>1</td>\n",
       "      <td>1</td>\n",
       "      <td>69</td>\n",
       "    </tr>\n",
       "    <tr>\n",
       "      <td>1</td>\n",
       "      <td>Bad</td>\n",
       "      <td>61</td>\n",
       "      <td>58</td>\n",
       "      <td>15</td>\n",
       "      <td>41</td>\n",
       "      <td>2</td>\n",
       "      <td>4</td>\n",
       "      <td>4</td>\n",
       "      <td>100</td>\n",
       "      <td>-7</td>\n",
       "      <td>...</td>\n",
       "      <td>67</td>\n",
       "      <td>0</td>\n",
       "      <td>0</td>\n",
       "      <td>0</td>\n",
       "      <td>0</td>\n",
       "      <td>-8</td>\n",
       "      <td>0</td>\n",
       "      <td>-8</td>\n",
       "      <td>-8</td>\n",
       "      <td>0</td>\n",
       "    </tr>\n",
       "    <tr>\n",
       "      <td>2</td>\n",
       "      <td>Bad</td>\n",
       "      <td>67</td>\n",
       "      <td>66</td>\n",
       "      <td>5</td>\n",
       "      <td>24</td>\n",
       "      <td>9</td>\n",
       "      <td>0</td>\n",
       "      <td>0</td>\n",
       "      <td>100</td>\n",
       "      <td>-7</td>\n",
       "      <td>...</td>\n",
       "      <td>44</td>\n",
       "      <td>0</td>\n",
       "      <td>4</td>\n",
       "      <td>4</td>\n",
       "      <td>53</td>\n",
       "      <td>66</td>\n",
       "      <td>4</td>\n",
       "      <td>2</td>\n",
       "      <td>1</td>\n",
       "      <td>86</td>\n",
       "    </tr>\n",
       "  </tbody>\n",
       "</table>\n",
       "<p>3 rows × 24 columns</p>\n",
       "</div>"
      ],
      "text/plain": [
       "  RiskPerformance  ExternalRiskEstimate  MSinceOldestTradeOpen  \\\n",
       "0             Bad                    55                    144   \n",
       "1             Bad                    61                     58   \n",
       "2             Bad                    67                     66   \n",
       "\n",
       "   MSinceMostRecentTradeOpen  AverageMInFile  NumSatisfactoryTrades  \\\n",
       "0                          4              84                     20   \n",
       "1                         15              41                      2   \n",
       "2                          5              24                      9   \n",
       "\n",
       "   NumTrades60Ever2DerogPubRec  NumTrades90Ever2DerogPubRec  \\\n",
       "0                            3                            0   \n",
       "1                            4                            4   \n",
       "2                            0                            0   \n",
       "\n",
       "   PercentTradesNeverDelq  MSinceMostRecentDelq  ...  PercentInstallTrades  \\\n",
       "0                      83                     2  ...                    43   \n",
       "1                     100                    -7  ...                    67   \n",
       "2                     100                    -7  ...                    44   \n",
       "\n",
       "   MSinceMostRecentInqexcl7days  NumInqLast6M  NumInqLast6Mexcl7days  \\\n",
       "0                             0             0                      0   \n",
       "1                             0             0                      0   \n",
       "2                             0             4                      4   \n",
       "\n",
       "   NetFractionRevolvingBurden  NetFractionInstallBurden  \\\n",
       "0                          33                        -8   \n",
       "1                           0                        -8   \n",
       "2                          53                        66   \n",
       "\n",
       "   NumRevolvingTradesWBalance  NumInstallTradesWBalance  \\\n",
       "0                           8                         1   \n",
       "1                           0                        -8   \n",
       "2                           4                         2   \n",
       "\n",
       "   NumBank2NatlTradesWHighUtilization  PercentTradesWBalance  \n",
       "0                                   1                     69  \n",
       "1                                  -8                      0  \n",
       "2                                   1                     86  \n",
       "\n",
       "[3 rows x 24 columns]"
      ]
     },
     "execution_count": 42,
     "metadata": {},
     "output_type": "execute_result"
    }
   ],
   "source": [
    "print(data.shape)\n",
    "data.head(3)"
   ]
  },
  {
   "cell_type": "code",
   "execution_count": 43,
   "metadata": {
    "ExecuteTime": {
     "end_time": "2019-12-04T04:15:05.470606Z",
     "start_time": "2019-12-04T04:15:05.423632Z"
    },
    "colab": {
     "base_uri": "https://localhost:8080/",
     "height": 510
    },
    "colab_type": "code",
    "executionInfo": {
     "elapsed": 874,
     "status": "ok",
     "timestamp": 1576269177792,
     "user": {
      "displayName": "Khanh Duc Tran",
      "photoUrl": "https://lh3.googleusercontent.com/a-/AAuE7mBivPPq6ugLCrYw8TwzyYPUVX3s3MzsM0frR-_MxA=s64",
      "userId": "01880894527573408613"
     },
     "user_tz": 300
    },
    "id": "jPtDDWCZWchD",
    "outputId": "7370348d-bdc6-4e90-8b21-f25abf7d7d07"
   },
   "outputs": [
    {
     "name": "stdout",
     "output_type": "stream",
     "text": [
      "<class 'pandas.core.frame.DataFrame'>\n",
      "RangeIndex: 10459 entries, 0 to 10458\n",
      "Data columns (total 24 columns):\n",
      "RiskPerformance                       10459 non-null object\n",
      "ExternalRiskEstimate                  10459 non-null int64\n",
      "MSinceOldestTradeOpen                 10459 non-null int64\n",
      "MSinceMostRecentTradeOpen             10459 non-null int64\n",
      "AverageMInFile                        10459 non-null int64\n",
      "NumSatisfactoryTrades                 10459 non-null int64\n",
      "NumTrades60Ever2DerogPubRec           10459 non-null int64\n",
      "NumTrades90Ever2DerogPubRec           10459 non-null int64\n",
      "PercentTradesNeverDelq                10459 non-null int64\n",
      "MSinceMostRecentDelq                  10459 non-null int64\n",
      "MaxDelq2PublicRecLast12M              10459 non-null int64\n",
      "MaxDelqEver                           10459 non-null int64\n",
      "NumTotalTrades                        10459 non-null int64\n",
      "NumTradesOpeninLast12M                10459 non-null int64\n",
      "PercentInstallTrades                  10459 non-null int64\n",
      "MSinceMostRecentInqexcl7days          10459 non-null int64\n",
      "NumInqLast6M                          10459 non-null int64\n",
      "NumInqLast6Mexcl7days                 10459 non-null int64\n",
      "NetFractionRevolvingBurden            10459 non-null int64\n",
      "NetFractionInstallBurden              10459 non-null int64\n",
      "NumRevolvingTradesWBalance            10459 non-null int64\n",
      "NumInstallTradesWBalance              10459 non-null int64\n",
      "NumBank2NatlTradesWHighUtilization    10459 non-null int64\n",
      "PercentTradesWBalance                 10459 non-null int64\n",
      "dtypes: int64(23), object(1)\n",
      "memory usage: 1.9+ MB\n"
     ]
    }
   ],
   "source": [
    "data.info()"
   ]
  },
  {
   "cell_type": "markdown",
   "metadata": {
    "colab_type": "text",
    "id": "-SYyEmzaWchF"
   },
   "source": [
    "## 2. EDA"
   ]
  },
  {
   "cell_type": "markdown",
   "metadata": {
    "colab_type": "text",
    "id": "uVLrqG9WWchG"
   },
   "source": [
    "## 3. Modeling"
   ]
  },
  {
   "cell_type": "markdown",
   "metadata": {
    "colab_type": "text",
    "id": "MlV_KxnwWchG"
   },
   "source": [
    "### 3.1. Data preprocessing"
   ]
  },
  {
   "cell_type": "code",
   "execution_count": 44,
   "metadata": {
    "colab": {
     "base_uri": "https://localhost:8080/",
     "height": 153
    },
    "colab_type": "code",
    "executionInfo": {
     "elapsed": 866,
     "status": "ok",
     "timestamp": 1576275513128,
     "user": {
      "displayName": "Khanh Duc Tran",
      "photoUrl": "https://lh3.googleusercontent.com/a-/AAuE7mBivPPq6ugLCrYw8TwzyYPUVX3s3MzsM0frR-_MxA=s64",
      "userId": "01880894527573408613"
     },
     "user_tz": 300
    },
    "id": "Ls7whKMOVE4q",
    "outputId": "57c34816-c91a-4139-9d39-9d02108aa42a"
   },
   "outputs": [
    {
     "data": {
      "text/plain": [
       "Index(['MaxDelq2PublicRecLast12M_0', 'MaxDelq2PublicRecLast12M_1',\n",
       "       'MaxDelq2PublicRecLast12M_2', 'MaxDelq2PublicRecLast12M_3',\n",
       "       'MaxDelq2PublicRecLast12M_4', 'MaxDelq2PublicRecLast12M_5',\n",
       "       'MaxDelq2PublicRecLast12M_6', 'MaxDelq2PublicRecLast12M_7',\n",
       "       'MaxDelq2PublicRecLast12M_9', 'MaxDelqEver_2', 'MaxDelqEver_3',\n",
       "       'MaxDelqEver_4', 'MaxDelqEver_5', 'MaxDelqEver_6', 'MaxDelqEver_7',\n",
       "       'MaxDelqEver_8'],\n",
       "      dtype='object')"
      ]
     },
     "execution_count": 44,
     "metadata": {},
     "output_type": "execute_result"
    }
   ],
   "source": [
    "dummies.columns"
   ]
  },
  {
   "cell_type": "code",
   "execution_count": 45,
   "metadata": {
    "colab": {},
    "colab_type": "code",
    "id": "EJQjtKNS-mJI"
   },
   "outputs": [],
   "source": [
    "from sklearn.model_selection import train_test_split\n",
    "from sklearn.preprocessing import StandardScaler\n",
    "from sklearn.pipeline import Pipeline\n",
    "from sklearn.impute import SimpleImputer\n",
    "\n",
    "# Specify X and y\n",
    "X = data.drop('RiskPerformance', axis=1)\n",
    "y = data.RiskPerformance\n",
    "\n",
    "# Factorizing `y`\n",
    "y = y.map({'Bad': 1, 'Good': 0})\n",
    "\n",
    "# One-hot encode for 'MaxDelq2PublicRecLast12M' and 'MaxDelqEver'\n",
    "dummies = pd.get_dummies(X[['MaxDelq2PublicRecLast12M', 'MaxDelqEver']].astype(str), drop_first=True)\n",
    "X.drop(['MaxDelq2PublicRecLast12M', 'MaxDelqEver'], axis=1, inplace=True)\n",
    "\n",
    "# One-hot encode for -7, -8, -9 values\n",
    "def get_special_dummies(X, col):\n",
    "  \"\"\"\n",
    "  One-hot encode for -7, -8, -9 values in each column\n",
    "  \"\"\"\n",
    "  X[col + '_-7'] = X[col].apply(lambda row:int(row==-7))\n",
    "  X[col + '_-8'] = X[col].apply(lambda row:int(row==-8))\n",
    "  X[col + '_-9'] = X[col].apply(lambda row:int(row==-9))\n",
    "\n",
    "for col in X.columns:\n",
    "    get_special_dummies(X, col)\n",
    "\n",
    "# Concatenate X and dummies\n",
    "X = pd.concat([X, dummies], axis=1)\n",
    "\n",
    "# Replace negative values with NaN\n",
    "X[X < 0] = np.nan\n",
    "\n",
    "# Train test split\n",
    "X_train, X_test, y_train, y_test = train_test_split(X,\n",
    "                                                    y,\n",
    "                                                    test_size=0.1,\n",
    "                                                    random_state=1)\n",
    "# Imputing Missing Values and Feature Scaling\n",
    "preprocessor = Pipeline(steps=[\n",
    "    ('imputer', SimpleImputer(strategy='mean')),\n",
    "    ('scaler', StandardScaler())\n",
    "])\n",
    "\n",
    "# Feature scaling\n",
    "X_train = preprocessor.fit_transform(X_train)\n",
    "X_test = preprocessor.transform(X_test)"
   ]
  },
  {
   "cell_type": "markdown",
   "metadata": {
    "colab_type": "text",
    "id": "qmLfiBP-WchK"
   },
   "source": [
    "### 3.2. Modeling"
   ]
  },
  {
   "cell_type": "code",
   "execution_count": 46,
   "metadata": {
    "ExecuteTime": {
     "end_time": "2019-12-04T04:15:57.739289Z",
     "start_time": "2019-12-04T04:15:57.732293Z"
    },
    "colab": {},
    "colab_type": "code",
    "id": "SX8KXml3WchL"
   },
   "outputs": [],
   "source": [
    "from sklearn.model_selection import KFold, cross_val_score, GridSearchCV\n",
    "from sklearn.metrics import accuracy_score, roc_curve, auc, roc_auc_score\n",
    "from sklearn.linear_model import LogisticRegression\n",
    "from sklearn.ensemble import RandomForestClassifier\n",
    "from lightgbm import LGBMClassifier\n",
    "from sklearn.svm import SVC\n",
    "\n",
    "def gridSearchCV(model, params):\n",
    "    \"\"\"\n",
    "    @param    model: sklearn estimator\n",
    "    @param    params (dict): Dictionary of possible parameters\n",
    "    \n",
    "    @return   cv_results (DataFrame)\n",
    "    \"\"\"\n",
    "    model_cv = GridSearchCV(model, param_grid=params, scoring='roc_auc', cv=5)\n",
    "    model_cv.fit(X_train, y_train)\n",
    "    cv_results = pd.DataFrame(model_cv.cv_results_)[['params', 'mean_test_score']]\n",
    "    \n",
    "    return cv_results"
   ]
  },
  {
   "cell_type": "code",
   "execution_count": 47,
   "metadata": {
    "ExecuteTime": {
     "end_time": "2019-12-04T04:18:45.740231Z",
     "start_time": "2019-12-04T04:18:45.731238Z"
    },
    "colab": {},
    "colab_type": "code",
    "id": "85_JAzNZWchM"
   },
   "outputs": [],
   "source": [
    "def evaluate(model, plotROC=False):\n",
    "    \"\"\"\n",
    "    1. Plot ROC AUC of the test set\n",
    "    2. Return the best threshold\n",
    "    \"\"\"\n",
    "    model.fit(X_train, y_train)\n",
    "    probs = model.predict_proba(X_test)\n",
    "    preds = probs[:,1]\n",
    "    fpr, tpr, threshold = roc_curve(y_test, preds)\n",
    "    roc_auc = auc(fpr, tpr)\n",
    "    print(f'AUC: {roc_auc:.4f}')\n",
    "    \n",
    "    # Find optimal threshold\n",
    "    rocDf = pd.DataFrame({'fpr': fpr, 'tpr':tpr, 'threshold':threshold})\n",
    "    rocDf['tpr - fpr'] = rocDf.tpr - rocDf.fpr\n",
    "    optimalThreshold = rocDf.threshold[rocDf['tpr - fpr'].idxmax()]\n",
    "    \n",
    "    # Get accuracy over the test set\n",
    "    y_pred = np.where(preds >= optimalThreshold, 1, 0)\n",
    "    accuracy = accuracy_score(y_test, y_pred)\n",
    "    print(f'Accuracy: {accuracy*100:.2f}%')\n",
    "    \n",
    "    # Plot ROC AUC\n",
    "    if plotROC:\n",
    "        plt.title('Receiver Operating Characteristic')\n",
    "        plt.plot(fpr, tpr, 'b', label = 'AUC = %0.2f' % roc_auc)\n",
    "        plt.legend(loc = 'lower right')\n",
    "        plt.plot([0, 1], [0, 1],'r--')\n",
    "        plt.xlim([0, 1])\n",
    "        plt.ylim([0, 1])\n",
    "        plt.ylabel('True Positive Rate')\n",
    "        plt.xlabel('False Positive Rate')\n",
    "        plt.show()"
   ]
  },
  {
   "cell_type": "markdown",
   "metadata": {
    "colab_type": "text",
    "id": "But5zX2IWchO"
   },
   "source": [
    "#### 3.2.1. Random Forest"
   ]
  },
  {
   "cell_type": "code",
   "execution_count": 48,
   "metadata": {
    "ExecuteTime": {
     "end_time": "2019-12-02T23:56:55.494144Z",
     "start_time": "2019-12-02T23:56:35.003206Z"
    },
    "colab": {
     "base_uri": "https://localhost:8080/",
     "height": 68
    },
    "colab_type": "code",
    "executionInfo": {
     "elapsed": 20511,
     "status": "ok",
     "timestamp": 1576273623755,
     "user": {
      "displayName": "Khanh Duc Tran",
      "photoUrl": "https://lh3.googleusercontent.com/a-/AAuE7mBivPPq6ugLCrYw8TwzyYPUVX3s3MzsM0frR-_MxA=s64",
      "userId": "01880894527573408613"
     },
     "user_tz": 300
    },
    "id": "giryrdeXWchP",
    "outputId": "5cbeb28c-aad7-4e9d-f1ee-a02179c97f05"
   },
   "outputs": [
    {
     "name": "stdout",
     "output_type": "stream",
     "text": [
      "                  params  mean_test_score\n",
      "0   {'n_estimators': 50}         0.783394\n",
      "1  {'n_estimators': 200}         0.789508\n"
     ]
    }
   ],
   "source": [
    "params = {'n_estimators': [50, 200]}\n",
    "rfc = RandomForestClassifier(random_state=1)\n",
    "print(gridSearchCV(rfc, params))"
   ]
  },
  {
   "cell_type": "code",
   "execution_count": 49,
   "metadata": {
    "ExecuteTime": {
     "end_time": "2019-12-04T04:18:51.246149Z",
     "start_time": "2019-12-04T04:18:48.012068Z"
    },
    "colab": {
     "base_uri": "https://localhost:8080/",
     "height": 329
    },
    "colab_type": "code",
    "executionInfo": {
     "elapsed": 9603,
     "status": "ok",
     "timestamp": 1576273737669,
     "user": {
      "displayName": "Khanh Duc Tran",
      "photoUrl": "https://lh3.googleusercontent.com/a-/AAuE7mBivPPq6ugLCrYw8TwzyYPUVX3s3MzsM0frR-_MxA=s64",
      "userId": "01880894527573408613"
     },
     "user_tz": 300
    },
    "id": "7i3rKX2gWchQ",
    "outputId": "e8aec356-c5ca-4503-c4d8-63fe1975864c"
   },
   "outputs": [
    {
     "name": "stdout",
     "output_type": "stream",
     "text": [
      "AUC: 0.7981\n",
      "Accuracy: 74.00%\n"
     ]
    },
    {
     "data": {
      "image/png": "[encoded data removed]",
      "text/plain": [
       "<Figure size 432x288 with 1 Axes>"
      ]
     },
     "metadata": {},
     "output_type": "display_data"
    }
   ],
   "source": [
    "rfc = RandomForestClassifier(n_estimators=500, random_state=1)\n",
    "evaluate(rfc, plotROC=True)"
   ]
  },
  {
   "cell_type": "markdown",
   "metadata": {
    "colab_type": "text",
    "id": "mnrgA3hdWchS"
   },
   "source": [
    "#### 3.2.2. Logistic Regression"
   ]
  },
  {
   "cell_type": "code",
   "execution_count": 50,
   "metadata": {
    "ExecuteTime": {
     "end_time": "2019-12-02T23:55:59.442393Z",
     "start_time": "2019-12-02T23:55:58.061120Z"
    },
    "colab": {
     "base_uri": "https://localhost:8080/",
     "height": 102
    },
    "colab_type": "code",
    "executionInfo": {
     "elapsed": 4406,
     "status": "ok",
     "timestamp": 1576273871959,
     "user": {
      "displayName": "Khanh Duc Tran",
      "photoUrl": "https://lh3.googleusercontent.com/a-/AAuE7mBivPPq6ugLCrYw8TwzyYPUVX3s3MzsM0frR-_MxA=s64",
      "userId": "01880894527573408613"
     },
     "user_tz": 300
    },
    "id": "MNVgrnAfWchT",
    "outputId": "dd34f715-3a49-42b0-8e4d-3d9ef0c1055e"
   },
   "outputs": [
    {
     "name": "stdout",
     "output_type": "stream",
     "text": [
      "        params  mean_test_score\n",
      "0  {'C': 0.01}         0.796635\n",
      "1   {'C': 0.1}         0.796564\n",
      "2     {'C': 1}         0.796482\n",
      "3    {'C': 10}         0.796407\n"
     ]
    }
   ],
   "source": [
    "params = {'C': [0.01, 0.1, 1, 10]}\n",
    "logit = LogisticRegression()\n",
    "print(gridSearchCV(logit, params))"
   ]
  },
  {
   "cell_type": "code",
   "execution_count": 51,
   "metadata": {
    "ExecuteTime": {
     "end_time": "2019-12-04T04:19:22.914833Z",
     "start_time": "2019-12-04T04:19:22.553733Z"
    },
    "colab": {
     "base_uri": "https://localhost:8080/",
     "height": 329
    },
    "colab_type": "code",
    "executionInfo": {
     "elapsed": 1215,
     "status": "ok",
     "timestamp": 1576272515968,
     "user": {
      "displayName": "Khanh Duc Tran",
      "photoUrl": "https://lh3.googleusercontent.com/a-/AAuE7mBivPPq6ugLCrYw8TwzyYPUVX3s3MzsM0frR-_MxA=s64",
      "userId": "01880894527573408613"
     },
     "user_tz": 300
    },
    "id": "DCXmmEDWWchU",
    "outputId": "df0b80ec-4c59-47df-809f-c9329b359084"
   },
   "outputs": [
    {
     "name": "stdout",
     "output_type": "stream",
     "text": [
      "AUC: 0.7992\n",
      "Accuracy: 72.94%\n"
     ]
    },
    {
     "data": {
      "image/png": "[encoded data removed]",
      "text/plain": [
       "<Figure size 432x288 with 1 Axes>"
      ]
     },
     "metadata": {},
     "output_type": "display_data"
    }
   ],
   "source": [
    "logit = LogisticRegression(C=0.01)\n",
    "evaluate(logit, plotROC=True)"
   ]
  },
  {
   "cell_type": "markdown",
   "metadata": {
    "colab_type": "text",
    "id": "FLOiA-3VWchW"
   },
   "source": [
    "#### 3.2.3. LightGBM"
   ]
  },
  {
   "cell_type": "code",
   "execution_count": 52,
   "metadata": {
    "ExecuteTime": {
     "end_time": "2019-12-04T04:23:04.701126Z",
     "start_time": "2019-12-04T04:23:02.293434Z"
    },
    "colab": {
     "base_uri": "https://localhost:8080/",
     "height": 85
    },
    "colab_type": "code",
    "executionInfo": {
     "elapsed": 4839,
     "status": "ok",
     "timestamp": 1576272501355,
     "user": {
      "displayName": "Khanh Duc Tran",
      "photoUrl": "https://lh3.googleusercontent.com/a-/AAuE7mBivPPq6ugLCrYw8TwzyYPUVX3s3MzsM0frR-_MxA=s64",
      "userId": "01880894527573408613"
     },
     "user_tz": 300
    },
    "id": "Ds5jvRqWWchX",
    "outputId": "505d47c3-62d2-4734-db86-d9903fa55500"
   },
   "outputs": [
    {
     "name": "stdout",
     "output_type": "stream",
     "text": [
      "             params  mean_test_score\n",
      "0  {'max_depth': 5}         0.798398\n",
      "1  {'max_depth': 6}         0.798203\n",
      "2  {'max_depth': 7}         0.798521\n"
     ]
    }
   ],
   "source": [
    "params = {'max_depth': [5, 6, 7]}\n",
    "lightGBM = LGBMClassifier(learning_rate=0.05,\n",
    "                          n_estimators=150,\n",
    "                          num_leaves=8,\n",
    "                          min_data_in_leaf=4,\n",
    "                          max_depth=5,\n",
    "                          max_bin=55,\n",
    "                          bagging_fraction=0.78,\n",
    "                          bagging_freq=5,\n",
    "                          feature_fraction=0.24,\n",
    "                          feature_fraction_seed=9,\n",
    "                          bagging_seed=9,\n",
    "                          min_sum_hessian_in_leaf=11)\n",
    "print(gridSearchCV(lightGBM, params))"
   ]
  },
  {
   "cell_type": "code",
   "execution_count": 53,
   "metadata": {
    "ExecuteTime": {
     "end_time": "2019-12-04T04:23:11.143804Z",
     "start_time": "2019-12-04T04:23:10.788411Z"
    },
    "colab": {
     "base_uri": "https://localhost:8080/",
     "height": 329
    },
    "colab_type": "code",
    "executionInfo": {
     "elapsed": 1190,
     "status": "ok",
     "timestamp": 1576274017068,
     "user": {
      "displayName": "Khanh Duc Tran",
      "photoUrl": "https://lh3.googleusercontent.com/a-/AAuE7mBivPPq6ugLCrYw8TwzyYPUVX3s3MzsM0frR-_MxA=s64",
      "userId": "01880894527573408613"
     },
     "user_tz": 300
    },
    "id": "6yCCIOdLWchZ",
    "outputId": "29224cc6-9bf8-4cb0-f909-e5604041e71c"
   },
   "outputs": [
    {
     "name": "stdout",
     "output_type": "stream",
     "text": [
      "AUC: 0.7997\n",
      "Accuracy: 72.85%\n"
     ]
    },
    {
     "data": {
      "image/png": "[encoded data removed]",
      "text/plain": [
       "<Figure size 432x288 with 1 Axes>"
      ]
     },
     "metadata": {},
     "output_type": "display_data"
    }
   ],
   "source": [
    "lightGBM = LGBMClassifier(learning_rate=0.05,\n",
    "                          n_estimators=200,\n",
    "                          num_leaves=7,\n",
    "                          min_data_in_leaf=4,\n",
    "                          max_depth=4,\n",
    "                          max_bin=55,\n",
    "                          bagging_fraction=0.78,\n",
    "                          bagging_freq=9,\n",
    "                          feature_fraction=0.24,\n",
    "                          feature_fraction_seed=9,\n",
    "                          bagging_seed=9,\n",
    "                          min_sum_hessian_in_leaf=13)\n",
    "evaluate(lightGBM, plotROC=True)"
   ]
  },
  {
   "cell_type": "markdown",
   "metadata": {
    "ExecuteTime": {
     "end_time": "2019-12-02T23:38:42.497186Z",
     "start_time": "2019-12-02T23:38:42.493186Z"
    },
    "colab_type": "text",
    "id": "-X0LZQQXWcha"
   },
   "source": [
    "#### 3.2.4. SVM"
   ]
  },
  {
   "cell_type": "code",
   "execution_count": 54,
   "metadata": {
    "ExecuteTime": {
     "end_time": "2019-12-04T04:21:33.512922Z",
     "start_time": "2019-12-04T04:20:20.031477Z"
    },
    "colab": {
     "base_uri": "https://localhost:8080/",
     "height": 102
    },
    "colab_type": "code",
    "executionInfo": {
     "elapsed": 211386,
     "status": "ok",
     "timestamp": 1576272737949,
     "user": {
      "displayName": "Khanh Duc Tran",
      "photoUrl": "https://lh3.googleusercontent.com/a-/AAuE7mBivPPq6ugLCrYw8TwzyYPUVX3s3MzsM0frR-_MxA=s64",
      "userId": "01880894527573408613"
     },
     "user_tz": 300
    },
    "id": "IC8v_jDVWchb",
    "outputId": "0f30d8bd-0ff0-4bb1-d487-ce95ca5013e5"
   },
   "outputs": [
    {
     "name": "stdout",
     "output_type": "stream",
     "text": [
      "       params  mean_test_score\n",
      "0  {'C': 0.1}         0.787765\n",
      "1    {'C': 1}         0.787651\n",
      "2    {'C': 3}         0.782655\n",
      "3   {'C': 10}         0.773760\n"
     ]
    }
   ],
   "source": [
    "params = {'C': [0.1, 1, 3, 10]}\n",
    "svc = SVC(gamma='auto', random_state=1)\n",
    "print(gridSearchCV(svc, params))"
   ]
  },
  {
   "cell_type": "code",
   "execution_count": 60,
   "metadata": {
    "ExecuteTime": {
     "end_time": "2019-12-04T04:22:49.743089Z",
     "start_time": "2019-12-04T04:22:24.663788Z"
    },
    "colab": {
     "base_uri": "https://localhost:8080/",
     "height": 329
    },
    "colab_type": "code",
    "executionInfo": {
     "elapsed": 58103,
     "status": "ok",
     "timestamp": 1576273991582,
     "user": {
      "displayName": "Khanh Duc Tran",
      "photoUrl": "https://lh3.googleusercontent.com/a-/AAuE7mBivPPq6ugLCrYw8TwzyYPUVX3s3MzsM0frR-_MxA=s64",
      "userId": "01880894527573408613"
     },
     "user_tz": 300
    },
    "id": "umzIRgUzWchd",
    "outputId": "ea0744cb-21a8-422b-c995-b30e0d4c502f"
   },
   "outputs": [
    {
     "name": "stdout",
     "output_type": "stream",
     "text": [
      "AUC: 0.7919\n",
      "Accuracy: 72.56%\n"
     ]
    },
    {
     "data": {
      "image/png": "[encoded data removed]",
      "text/plain": [
       "<Figure size 432x288 with 1 Axes>"
      ]
     },
     "metadata": {
      "tags": []
     },
     "output_type": "display_data"
    }
   ],
   "source": [
    "svc = SVC(C=0.1, kernel='linear', degree=2,\n",
    "          gamma=0.1, random_state=1, probability=True)\n",
    "evaluate(svc, plotROC=True)"
   ]
  },
  {
   "cell_type": "markdown",
   "metadata": {
    "colab_type": "text",
    "id": "lPca6wDkWchg"
   },
   "source": [
    "#### 3.2.5. Averaging Model"
   ]
  },
  {
   "cell_type": "code",
   "execution_count": null,
   "metadata": {
    "colab": {},
    "colab_type": "code",
    "id": "2-Yf-_fNWchg"
   },
   "outputs": [],
   "source": [
    "from sklearn.base import BaseEstimator, RegressorMixin, TransformerMixin, clone\n",
    "\n",
    "class AveragingModel(BaseEstimator, RegressorMixin, TransformerMixin):\n",
    "    def __init__(self, models):\n",
    "        self.models = models\n",
    "\n",
    "    def fit(self, X, y):\n",
    "        # Create clone models\n",
    "        self.models_ = [clone(x) for x in self.models]\n",
    "\n",
    "        # Train cloned models\n",
    "        for model in self.models_:\n",
    "            model.fit(X, y)\n",
    "\n",
    "        return self\n",
    "\n",
    "    def predict(self, X):\n",
    "        # Get predictions from trained clone models\n",
    "        predictions = np.column_stack(\n",
    "            [model.predict(X) for model in self.models_])\n",
    "        # Average predictions\n",
    "        predictions = np.mean(predictions, axis=1)\n",
    "        predictions = np.where(predictions >= 0.5, 1, 0)\n",
    "        return predictions\n",
    "    \n",
    "    def predict_proba(self, X):\n",
    "        # Get predictions from trained clone models\n",
    "        probs_1 = np.column_stack(\n",
    "            [model.predict_proba(X)[:, 1] for model in self.models_])\n",
    "        # Average predictions\n",
    "        probs_1 = np.mean(probs_1, axis=1)\n",
    "        probs_0 = 1 - probs_1\n",
    "        probs = np.column_stack([probs_0, probs_1])\n",
    "        return probs"
   ]
  },
  {
   "cell_type": "code",
   "execution_count": null,
   "metadata": {
    "colab": {},
    "colab_type": "code",
    "id": "8rGt-offWchk",
    "outputId": "5730cd52-bd19-4505-cbe6-40f3af1c91a5"
   },
   "outputs": [
    {
     "name": "stdout",
     "output_type": "stream",
     "text": [
      "AUC: 0.8019\n",
      "Accuracy: 73.04%\n"
     ]
    },
    {
     "data": {
      "image/png": "[encoded data removed]",
      "text/plain": [
       "<Figure size 432x288 with 1 Axes>"
      ]
     },
     "metadata": {
      "needs_background": "light",
      "tags": []
     },
     "output_type": "display_data"
    }
   ],
   "source": [
    "avg_model = AveragingModel([lightGBM, rfc, svc])\n",
    "evaluate(avg_model, plotROC=True)"
   ]
  },
  {
   "cell_type": "markdown",
   "metadata": {
    "colab_type": "text",
    "id": "JjYSyU-PWchn"
   },
   "source": [
    "## 3.3. Save the final model"
   ]
  },
  {
   "cell_type": "code",
   "execution_count": null,
   "metadata": {
    "colab": {},
    "colab_type": "code",
    "id": "bI-wAYC0Wchn"
   },
   "outputs": [],
   "source": [
    "from sklearn.pipeline import Pipeline\n",
    "import joblib\n",
    "\n",
    "def save_model(model, model_name):\n",
    "    print('Saving ' + model_name + ' ...')\n",
    "    pipeline = Pipeline(steps=[('imputer', SimpleImputer(strategy='mean')),\n",
    "                               ('scaler', StandardScaler()),\n",
    "                               ('model', model)])\n",
    "    pipeline.fit(X, y)\n",
    "    filename = 'models/' + model_name + '.joblib.pkl'\n",
    "    joblib.dump(pipeline, filename, compress=9)\n",
    "    print('Complete!\\n')"
   ]
  },
  {
   "cell_type": "code",
   "execution_count": 64,
   "metadata": {
    "ExecuteTime": {
     "end_time": "2019-12-04T04:39:23.489228Z",
     "start_time": "2019-12-04T04:39:23.291897Z"
    },
    "colab": {
     "base_uri": "https://localhost:8080/",
     "height": 221
    },
    "colab_type": "code",
    "executionInfo": {
     "elapsed": 148485,
     "status": "ok",
     "timestamp": 1576274890807,
     "user": {
      "displayName": "Khanh Duc Tran",
      "photoUrl": "https://lh3.googleusercontent.com/a-/AAuE7mBivPPq6ugLCrYw8TwzyYPUVX3s3MzsM0frR-_MxA=s64",
      "userId": "01880894527573408613"
     },
     "user_tz": 300
    },
    "id": "aodTm9PjWcho",
    "outputId": "9d265b04-92c5-48ae-8c0b-ecc90e7d577f"
   },
   "outputs": [
    {
     "name": "stdout",
     "output_type": "stream",
     "text": [
      "Saving logit ...\n",
      "Complete!\n",
      "\n",
      "Saving rfc ...\n",
      "Complete!\n",
      "\n",
      "Saving svc ...\n",
      "Complete!\n",
      "\n",
      "Saving lgbm ...\n",
      "Complete!\n",
      "\n"
     ]
    }
   ],
   "source": [
    "save_model(logit, 'logit')\n",
    "save_model(rfc, 'rfc')\n",
    "save_model(svc, 'svc')\n",
    "save_model(lightGBM, 'lgbm')"
   ]
  },
  {
   "cell_type": "code",
   "execution_count": null,
   "metadata": {
    "ExecuteTime": {
     "end_time": "2019-12-04T04:44:11.449876Z",
     "start_time": "2019-12-04T04:44:11.426892Z"
    },
    "colab": {},
    "colab_type": "code",
    "id": "09FTycfoWchq"
   },
   "outputs": [],
   "source": [
    "### Load models\n",
    "#import joblib\n",
    "#model_name = 'lgbm'\n",
    "#filename = 'models/' + model_name + '.joblib.pkl'\n",
    "#model = joblib.load(filename)"
   ]
  }
 ],
 "metadata": {
  "colab": {
   "collapsed_sections": [],
   "name": "Notebook.ipynb",
   "provenance": []
  },
  "kernelspec": {
   "display_name": "Python 3",
   "language": "python",
   "name": "python3"
  },
  "language_info": {
   "codemirror_mode": {
    "name": "ipython",
    "version": 3
   },
   "file_extension": ".py",
   "mimetype": "text/x-python",
   "name": "python",
   "nbconvert_exporter": "python",
   "pygments_lexer": "ipython3",
   "version": "3.7.4"
  },
  "toc": {
   "base_numbering": 1,
   "nav_menu": {},
   "number_sections": false,
   "sideBar": false,
   "skip_h1_title": false,
   "title_cell": "Table of Contents",
   "title_sidebar": "Contents",
   "toc_cell": false,
   "toc_position": {},
   "toc_section_display": false,
   "toc_window_display": false
  }
 },
 "nbformat": 4,
 "nbformat_minor": 4
}
